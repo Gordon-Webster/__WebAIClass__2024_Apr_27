{
 "cells": [
  {
   "cell_type": "code",
   "execution_count": null,
   "metadata": {},
   "outputs": [],
   "source": [
    "from pydantic import BaseModel,Field\n",
    "import json\n",
    "\n",
    "class Site(BaseModel):\n",
    "    site_name:str = Field(alias='sitename')\n",
    "    county:str\n",
    "    aqi:int\n",
    "    status:str\n",
    "\n",
    "class AQI(BaseModel):\n",
    "    records:list[Site]\n",
    "\n",
    "\n",
    "with open('aqx_p_488-2.json',encoding='utf-8') as file:\n",
    "    content:str = file.read()\n",
    "    aqi:AQI = AQI.model_validate_json(content)\n",
    "\n",
    "sites:list[Site] = aqi.records\n",
    "\n",
    "for site in sites:\n",
    "    print(site)"
   ]
  }
 ],
 "metadata": {
  "kernelspec": {
   "display_name": "Python 3",
   "language": "python",
   "name": "python3"
  },
  "language_info": {
   "name": "python",
   "version": "3.10.14"
  }
 },
 "nbformat": 4,
 "nbformat_minor": 2
}
