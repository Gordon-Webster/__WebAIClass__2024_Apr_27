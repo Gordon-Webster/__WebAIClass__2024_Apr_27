{
 "cells": [
  {
   "cell_type": "code",
   "execution_count": 4,
   "metadata": {},
   "outputs": [
    {
     "name": "stdout",
     "output_type": "stream",
     "text": [
      "這是Person實體, 姓名為徐先生\n"
     ]
    }
   ],
   "source": [
    "class Person():\n",
    "    def __init__(self,name) -> None:\n",
    "        self.name = name\n",
    "\n",
    "    def __repr__(self) -> str:\n",
    "        return f'這是Person實體, 姓名為{self.name}'\n",
    "\n",
    "\n",
    "p1 = Person('徐先生')\n",
    "print(p1)"
   ]
  },
  {
   "cell_type": "code",
   "execution_count": 12,
   "metadata": {},
   "outputs": [
    {
     "name": "stdout",
     "output_type": "stream",
     "text": [
      "<class '__main__.Student'> 這是Student實體, 姓名為Hsu, 分數為100\n"
     ]
    }
   ],
   "source": [
    "class Person():\n",
    "    def __init__(self,name) -> None:\n",
    "        self.name = name\n",
    "\n",
    "    def __repr__(self) -> str:\n",
    "        return f'這是Person實體, 姓名為{self.name}'\n",
    "\n",
    "class Student(Person):\n",
    "    def __init__(self, name, score) -> None:\n",
    "        super().__init__(name)\n",
    "        self.score = score\n",
    "    \n",
    "    def __str__(self):\n",
    "        return f'這是Student實體, 姓名為{self.name}, 分數為{self.score}'\n",
    "\n",
    "\n",
    "\n",
    "p1 = Person('徐先生')\n",
    "s1 = Student('Hsu', 100)\n",
    "print(type(s1), s1)\n"
   ]
  },
  {
   "cell_type": "markdown",
   "metadata": {},
   "source": [
    "OOP benefit to reduce tedious work\n",
    "c language no OOP"
   ]
  }
 ],
 "metadata": {
  "kernelspec": {
   "display_name": "Python 3",
   "language": "python",
   "name": "python3"
  },
  "language_info": {
   "codemirror_mode": {
    "name": "ipython",
    "version": 3
   },
   "file_extension": ".py",
   "mimetype": "text/x-python",
   "name": "python",
   "nbconvert_exporter": "python",
   "pygments_lexer": "ipython3",
   "version": "3.10.14"
  }
 },
 "nbformat": 4,
 "nbformat_minor": 2
}
