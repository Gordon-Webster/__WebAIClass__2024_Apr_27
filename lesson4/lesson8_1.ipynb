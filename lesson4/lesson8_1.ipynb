{
 "cells": [
  {
   "cell_type": "code",
   "execution_count": 4,
   "metadata": {},
   "outputs": [
    {
     "name": "stdout",
     "output_type": "stream",
     "text": [
      "這是Person實體, 姓名為徐先生\n"
     ]
    }
   ],
   "source": [
    "class Person():\n",
    "    def __init__(self,name) -> None:\n",
    "        self.name = name\n",
    "\n",
    "    def __repr__(self) -> str:\n",
    "        return f'這是Person實體, 姓名為{self.name}'\n",
    "\n",
    "\n",
    "p1 = Person('徐先生')\n",
    "print(p1)"
   ]
  },
  {
   "cell_type": "code",
   "execution_count": 12,
   "metadata": {},
   "outputs": [
    {
     "name": "stdout",
     "output_type": "stream",
     "text": [
      "<class '__main__.Student'> 這是Student實體, 姓名為Hsu, 分數為100\n"
     ]
    }
   ],
   "source": [
    "class Person():\n",
    "    def __init__(self,name) -> None:\n",
    "        self.name = name\n",
    "\n",
    "    def __repr__(self) -> str:\n",
    "        return f'這是Person實體, 姓名為{self.name}'\n",
    "\n",
    "class Student(Person):\n",
    "    def __init__(self, name, score) -> None:\n",
    "        super().__init__(name)\n",
    "        self.score = score\n",
    "    \n",
    "    def __str__(self):\n",
    "        return f'這是Student實體, 姓名為{self.name}, 分數為{self.score}'\n",
    "\n",
    "\n",
    "\n",
    "p1 = Person('徐先生')\n",
    "s1 = Student('Hsu', 100)\n",
    "print(type(s1), s1)\n"
   ]
  },
  {
   "cell_type": "markdown",
   "metadata": {},
   "source": [
    "OOP benefit to reduce tedious work\n",
    "c language no OOP\n",
    "chip vs cpu"
   ]
  },
  {
   "cell_type": "code",
   "execution_count": 16,
   "metadata": {},
   "outputs": [
    {
     "name": "stdout",
     "output_type": "stream",
     "text": [
      "<class '__main__.Student'> 這是Student實體,\n",
      "姓名為Hsu,\n",
      "國文分數為50\n",
      "英文分數為90\n",
      "數學分數為28\n",
      "\n"
     ]
    }
   ],
   "source": [
    "class Person():\n",
    "    def __init__(self,name) -> None:\n",
    "        self.name = name\n",
    "\n",
    "    def __repr__(self) -> str:\n",
    "        return f'這是Person實體, 姓名為{self.name}'\n",
    "\n",
    "class Student(Person):\n",
    "    def __init__(self, name, chinese, english, math) -> None:\n",
    "        super().__init__(name)\n",
    "        self.chinese = chinese\n",
    "        self.english = english\n",
    "        self.math = math\n",
    "    \n",
    "    def __str__(self):\n",
    "        msg = ''\n",
    "        msg += '這是Student實體,\\n'\n",
    "        msg += f'姓名為{self.name},\\n'\n",
    "        msg += f'國文分數為{self.chinese}\\n'\n",
    "        msg += f'英文分數為{self.english}\\n'\n",
    "        msg += f'數學分數為{self.math}\\n'\n",
    "        return msg\n",
    "\n",
    "\n",
    "\n",
    "# p1 = Person('徐先生')\n",
    "s1 = Student('Hsu', 100, 90, 28)\n",
    "\n",
    "s1.chinese = 50\n",
    "print(type(s1), s1)"
   ]
  },
  {
   "cell_type": "code",
   "execution_count": 23,
   "metadata": {},
   "outputs": [
    {
     "name": "stdout",
     "output_type": "stream",
     "text": [
      "<class '__main__.Student'>\n",
      "這是Student實體,\n",
      "姓名為Hsu,\n",
      "國文分數為100\n",
      "英文分數為90\n",
      "數學分數為28\n",
      "\n"
     ]
    }
   ],
   "source": [
    "class Person():\n",
    "    def __init__(self,name) -> None:\n",
    "        self.name = name\n",
    "\n",
    "    def __repr__(self) -> str:\n",
    "        return f'這是Person實體, 姓名為{self.name}'\n",
    "\n",
    "class Student(Person):\n",
    "    def __init__(self, name, chinese, english, math) -> None:\n",
    "        super().__init__(name)\n",
    "        self._chinese = chinese\n",
    "        self._english = english\n",
    "        self._math = math\n",
    "    #add decortor to avoid updating variable value\n",
    "\n",
    "    @property\n",
    "    def chinese(self):\n",
    "        return self._chinese\n",
    "\n",
    "    @property\n",
    "    def english(self):\n",
    "        return self._english\n",
    "\n",
    "    @property\n",
    "    def math(self):\n",
    "        return self._math\n",
    "\n",
    "    def __str__(self):\n",
    "        msg = ''\n",
    "        msg += '這是Student實體,\\n'\n",
    "        msg += f'姓名為{self.name},\\n'\n",
    "        msg += f'國文分數為{self.chinese}\\n'\n",
    "        msg += f'英文分數為{self.english}\\n'\n",
    "        msg += f'數學分數為{self.math}\\n'\n",
    "        return msg\n",
    "\n",
    "s1 = Student('Hsu', 100, 90, 28)\n",
    "\n",
    "# s1.chinese = 50\n",
    "print(type(s1), s1, sep='\\n')"
   ]
  },
  {
   "cell_type": "code",
   "execution_count": 25,
   "metadata": {},
   "outputs": [
    {
     "name": "stdout",
     "output_type": "stream",
     "text": [
      "<class '__main__.Student'>\n",
      "這是Student實體,\n",
      "姓名為Hsu,\n",
      "國文分數為100\n",
      "英文分數為90\n",
      "數學分數為28\n",
      "\n",
      "Total Score: 218\n",
      "AVG Score: 72.67\n"
     ]
    }
   ],
   "source": [
    "class Person():\n",
    "    def __init__(self,name):\n",
    "        self.name = name\n",
    "\n",
    "    def __repr__(self) -> str:\n",
    "        return f'這是Person實體, 姓名為{self.name}'\n",
    "\n",
    "class Student(Person):\n",
    "    def __init__(self, name, chinese, english, math) -> None:\n",
    "        super().__init__(name)\n",
    "        self._chinese = chinese\n",
    "        self._english = english\n",
    "        self._math = math\n",
    "\n",
    "    #add decortor to avoid updating variable value\n",
    "    @property\n",
    "    def chinese(self):\n",
    "        return self._chinese\n",
    "\n",
    "    @property\n",
    "    def english(self):\n",
    "        return self._english\n",
    "\n",
    "    @property\n",
    "    def math(self):\n",
    "        return self._math\n",
    "\n",
    "    def __str__(self):\n",
    "        msg = ''\n",
    "        msg += '這是Student實體,\\n'\n",
    "        msg += f'姓名為{self.name},\\n'\n",
    "        msg += f'國文分數為{self.chinese}\\n'\n",
    "        msg += f'英文分數為{self.english}\\n'\n",
    "        msg += f'數學分數為{self.math}\\n'\n",
    "        return msg\n",
    "    \n",
    "    #add instance methods\n",
    "    def sum(self) -> int:\n",
    "        return self.chinese + self.english + self.math\n",
    "    def avg(self) -> float:\n",
    "        return self.sum() / 3\n",
    "\n",
    "\n",
    "s1 = Student('Hsu', 100, 90, 28)\n",
    "\n",
    "# s1.chinese = 50\n",
    "print(type(s1), s1, sep='\\n')\n",
    "print(f'Total Score: {s1.sum()}')\n",
    "print(f'AVG Score: {round(s1.avg(), 2)}')"
   ]
  },
  {
   "cell_type": "code",
   "execution_count": null,
   "metadata": {},
   "outputs": [],
   "source": []
  }
 ],
 "metadata": {
  "kernelspec": {
   "display_name": "Python 3",
   "language": "python",
   "name": "python3"
  },
  "language_info": {
   "codemirror_mode": {
    "name": "ipython",
    "version": 3
   },
   "file_extension": ".py",
   "mimetype": "text/x-python",
   "name": "python",
   "nbconvert_exporter": "python",
   "pygments_lexer": "ipython3",
   "version": "3.10.14"
  }
 },
 "nbformat": 4,
 "nbformat_minor": 2
}
