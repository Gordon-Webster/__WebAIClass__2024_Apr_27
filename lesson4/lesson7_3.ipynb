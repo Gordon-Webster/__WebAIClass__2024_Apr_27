{
 "cells": [
  {
   "cell_type": "code",
   "execution_count": 8,
   "metadata": {},
   "outputs": [
    {
     "name": "stdout",
     "output_type": "stream",
     "text": [
      "<__main__.Person object at 0x7e47483df4c0>\n"
     ]
    }
   ],
   "source": [
    "class Person():\n",
    "    def __init__(self, height):\n",
    "        self.name = 'xxx'\n",
    "        self.height = height\n",
    "\n",
    "    # def __repr__(self):\n",
    "        # return '我是Person的實體'\n",
    "\n",
    "\n",
    "p1 = Person(169)\n",
    "print(p1)\n",
    "\n"
   ]
  },
  {
   "cell_type": "markdown",
   "metadata": {},
   "source": [
    "__repr__ goal is to be unambiguous\n",
    "__str__ goal is to be readable"
   ]
  },
  {
   "cell_type": "markdown",
   "metadata": {},
   "source": [
    "attribue\n",
    "property diff\n",
    "method"
   ]
  },
  {
   "cell_type": "markdown",
   "metadata": {},
   "source": []
  }
 ],
 "metadata": {
  "kernelspec": {
   "display_name": "Python 3",
   "language": "python",
   "name": "python3"
  },
  "language_info": {
   "codemirror_mode": {
    "name": "ipython",
    "version": 3
   },
   "file_extension": ".py",
   "mimetype": "text/x-python",
   "name": "python",
   "nbconvert_exporter": "python",
   "pygments_lexer": "ipython3",
   "version": "3.10.14"
  }
 },
 "nbformat": 4,
 "nbformat_minor": 2
}
