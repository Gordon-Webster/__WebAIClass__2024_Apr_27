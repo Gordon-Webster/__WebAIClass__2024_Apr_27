{
 "cells": [
  {
   "cell_type": "code",
   "execution_count": 14,
   "metadata": {},
   "outputs": [
    {
     "name": "stdout",
     "output_type": "stream",
     "text": [
      "Hsu\n",
      "70\n",
      "90\n",
      "100\n",
      "260\n",
      "86.67\n"
     ]
    }
   ],
   "source": [
    "from dataclasses import dataclass\n",
    "\n",
    "@dataclass #since v3.10\n",
    "class Student: #data type hint\n",
    "    name: str #field \n",
    "    chinese: int\n",
    "    english: int\n",
    "    math: int\n",
    "\n",
    "    #use property ranther than method\n",
    "    @property\n",
    "    def sum(self)->int:\n",
    "        return self.chinese + self.english + self.math\n",
    "    \n",
    "    def average(self)->float:\n",
    "        return round((self.sum / 3), 2)\n",
    "\n",
    "s1 = Student('Hsu', 70, 90, 100)\n",
    "# s1.math = 90\n",
    "print(s1.name)\n",
    "print(s1.chinese)\n",
    "print(s1.english)\n",
    "print(s1.math)\n",
    "print(s1.sum)\n",
    "print(s1.average())\n",
    "\n"
   ]
  },
  {
   "cell_type": "code",
   "execution_count": null,
   "metadata": {},
   "outputs": [],
   "source": []
  }
 ],
 "metadata": {
  "kernelspec": {
   "display_name": "Python 3",
   "language": "python",
   "name": "python3"
  },
  "language_info": {
   "codemirror_mode": {
    "name": "ipython",
    "version": 3
   },
   "file_extension": ".py",
   "mimetype": "text/x-python",
   "name": "python",
   "nbconvert_exporter": "python",
   "pygments_lexer": "ipython3",
   "version": "3.10.14"
  }
 },
 "nbformat": 4,
 "nbformat_minor": 2
}
